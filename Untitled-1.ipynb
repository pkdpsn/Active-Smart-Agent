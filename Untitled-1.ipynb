{
 "cells": [
  {
   "cell_type": "code",
   "execution_count": 1,
   "metadata": {},
   "outputs": [],
   "source": [
    "import numpy as np \n",
    "import matplotlib.pyplot as plt\n",
    "from config import DEFAULT_CONFIG\n",
    "from Envs_polar import rlEnvs\n",
    "from utils import *\n",
    "import pickle \n",
    "import time\n",
    "import sys\n",
    "import os\n",
    "from tqdm import tqdm\n",
    "from colorama import Fore , Back\n"
   ]
  },
  {
   "cell_type": "code",
   "execution_count": 2,
   "metadata": {},
   "outputs": [
    {
     "name": "stdout",
     "output_type": "stream",
     "text": [
      "Starting position:  -0.5 0\n",
      "Target position:  0.5 0\n",
      "Radius: [0.  0.1 0.2 0.3 0.4 0.5]\n",
      "Theta: [0.         0.19198622 0.38397244 0.57595865 0.76794487 0.95993109\n",
      " 1.15191731 1.34390352 1.53588974 1.72787596 1.91986218 2.11184839\n",
      " 2.30383461 2.49582083 2.68780705 2.87979327 3.07177948 3.2637657\n",
      " 3.45575192 3.64773814 3.83972435 4.03171057 4.22369679 4.41568301\n",
      " 4.60766923 4.79965544 4.99164166 5.18362788 5.3756141  5.56760031\n",
      " 5.75958653 5.95157275 6.14355897]\n",
      "0.19198621771937624\n"
     ]
    }
   ],
   "source": [
    "env= rlEnvs()"
   ]
  },
  {
   "cell_type": "code",
   "execution_count": 4,
   "metadata": {},
   "outputs": [
    {
     "name": "stdout",
     "output_type": "stream",
     "text": [
      "8\n",
      "8\n",
      "8\n"
     ]
    }
   ],
   "source": [
    "for i in range(1,4):\n",
    "    print(env.action_space.n)"
   ]
  },
  {
   "cell_type": "code",
   "execution_count": 15,
   "metadata": {},
   "outputs": [
    {
     "name": "stdout",
     "output_type": "stream",
     "text": [
      "**************************************************6 TRUNCATED False , DONE False Total time 0.000 Last Step -0.500, 0.000 0 \n",
      "R  0.5\n",
      "O 3.0717795\n"
     ]
    }
   ],
   "source": [
    "state,_ = env.reset()\n",
    "print(f\"R \",state[\"vector\"][0])\n",
    "print(f\"O\",state[\"vector\"][1])\n"
   ]
  },
  {
   "cell_type": "code",
   "execution_count": 4,
   "metadata": {},
   "outputs": [
    {
     "data": {
      "text/plain": [
       "array([0. , 0.1, 0.2, 0.3, 0.4, 0.5])"
      ]
     },
     "execution_count": 4,
     "metadata": {},
     "output_type": "execute_result"
    }
   ],
   "source": [
    "x=0.1\n",
    "np.arange(0, (1)/2+x, x)"
   ]
  },
  {
   "cell_type": "code",
   "execution_count": 6,
   "metadata": {},
   "outputs": [
    {
     "name": "stdout",
     "output_type": "stream",
     "text": [
      "(33,)\n"
     ]
    }
   ],
   "source": [
    "a =np.arange(0, 2*np.pi,((np.pi/180)*11) )\n",
    "print(a.shape)"
   ]
  },
  {
   "cell_type": "code",
   "execution_count": null,
   "metadata": {},
   "outputs": [],
   "source": []
  }
 ],
 "metadata": {
  "kernelspec": {
   "display_name": "new_torch",
   "language": "python",
   "name": "python3"
  },
  "language_info": {
   "codemirror_mode": {
    "name": "ipython",
    "version": 3
   },
   "file_extension": ".py",
   "mimetype": "text/x-python",
   "name": "python",
   "nbconvert_exporter": "python",
   "pygments_lexer": "ipython3",
   "version": "3.12.4"
  }
 },
 "nbformat": 4,
 "nbformat_minor": 2
}
